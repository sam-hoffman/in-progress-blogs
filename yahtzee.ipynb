{
 "cells": [
  {
   "cell_type": "markdown",
   "metadata": {},
   "source": [
    "A recent family game of quarantine Yahtzee disintegrated into an argument over how many turns it would take you to get a yahtzee. Soon, my little brother, who had just learned about object oriented programming, wrote a Yahtzee class to answer the question; my dad, who's way too smart, worked out the probabilities by hand, while my partner rolled physical dice and counted the number of yahtzees with ticks on a sheet of paper.  \n",
    "\n",
    "I took what I consider to be the lazy route and answered the question with Monte Carlo sampling and basic code. Monte Carlo sampling uses large numbers of random trials to calculate results that might be tedious or too difficult calculate by hand (it took my dad an hour to work out the yahtzee probabilities by hand). Bayesians may recognize Monte Carlo sampling as a great way to calculate posterior distributions; history buffs may recognize it as a key step that led to the development of the atomic bomb. \n",
    "\n",
    "To use Monte Carlo sampling to figure out how many turns it would take you to roll a yahtzee, we first need to find out the probability of rolling a yahtzee on any given turn.    \n",
    "  \n",
    "We define a turn as three total rolls, and since we're methodical Yahtzee players who rely on a plan rather than luck, we have decision rules for how to approach our rolls: \n",
    "  * for any roll, if there are two or more dice with the same number, we keep those dice and re-roll the rest\n",
    "  * if there are two dice with one number and two dice with another, we randomly choose between them to decide which to keep\n",
    "  \n"
   ]
  },
  {
   "cell_type": "code",
   "execution_count": 1,
   "metadata": {
    "ExecuteTime": {
     "end_time": "2020-04-30T03:08:40.929181Z",
     "start_time": "2020-04-30T03:08:39.908098Z"
    }
   },
   "outputs": [],
   "source": [
    "import numpy as np\n",
    "from collections import Counter\n",
    "import random"
   ]
  },
  {
   "cell_type": "code",
   "execution_count": 2,
   "metadata": {
    "ExecuteTime": {
     "end_time": "2020-04-30T03:22:03.698752Z",
     "start_time": "2020-04-30T03:22:03.687416Z"
    }
   },
   "outputs": [],
   "source": [
    "def roll_dice(previous_roll):\n",
    "    '''\n",
    "    Roll any dice that we haven't decided to keep. \n",
    "    \n",
    "    Args:\n",
    "        previous_roll, np.array: array containing the dice, if any, that\n",
    "        we have decided to keep from the previous roll. \n",
    "    \n",
    "    Returns:\n",
    "        np.array of size 5 containing the numbers on the dice we currently\n",
    "        have.\n",
    "    '''\n",
    "    roll_size = 5 - len(previous_roll)\n",
    "    new_roll = np.random.randint(1, 7, roll_size)\n",
    "    return np.append(previous_roll, new_roll)\n",
    "\n",
    "def find_what_to_keep(roll_list):\n",
    "    '''\n",
    "    Calculate the mode \n",
    "    '''\n",
    "    count = 0\n",
    "    mode_list = []\n",
    "    counted = Counter(roll_list).most_common()\n",
    "    for die in counted:\n",
    "        if die[1] >= count:\n",
    "            count = die[1]\n",
    "            mode_list.append(die[0])\n",
    "    \n",
    "    return mode_list, count  "
   ]
  },
  {
   "cell_type": "markdown",
   "metadata": {},
   "source": [
    "Let's see what happens when we `play_one_round_of_yahtzee`: "
   ]
  },
  {
   "cell_type": "code",
   "execution_count": 3,
   "metadata": {},
   "outputs": [
    {
     "name": "stdout",
     "output_type": "stream",
     "text": [
      "[2. 4. 5. 3. 1.]\n",
      "[1. 2. 3. 4. 1.]\n",
      "[1. 1. 6. 5. 1.]\n"
     ]
    },
    {
     "data": {
      "text/plain": [
       "0"
      ]
     },
     "execution_count": 3,
     "metadata": {},
     "output_type": "execute_result"
    }
   ],
   "source": [
    "def play_one_round_of_yahtzee():\n",
    "    previous_roll = np.array([])\n",
    "    roll_count = 0\n",
    "    mode_count = 0\n",
    "    while roll_count < 3 and mode_count < 5:\n",
    "        roll = roll_dice(previous_roll)\n",
    "        print(roll)\n",
    "        to_keep = find_what_to_keep(roll)\n",
    "        mode_count = to_keep[1]\n",
    "        if mode_count > 1:\n",
    "            keep = random.choice(to_keep[0])\n",
    "            previous_roll = roll[np.where(roll == keep)]\n",
    "        roll_count += 1\n",
    "    if mode_count == 5:\n",
    "        return 1\n",
    "    else:\n",
    "        return 0\n",
    "\n",
    "play_one_round_of_yahtzee()"
   ]
  },
  {
   "cell_type": "markdown",
   "metadata": {},
   "source": [
    "In the first round, we roll a full straight (five numbers in a row), but we're only playing for yahtzees, so we throw it away. In the second round, we roll two 1's, so we keep them. In the third round, we roll one more 1 and keep it, but it's still not good enough for a yahtzee, so we return 0 to indicate a failure.\n",
    "\n",
    "Let's redefine the function without the print statement to keep the output sane, then try some basic Monte Carlo sampling. "
   ]
  },
  {
   "cell_type": "code",
   "execution_count": 4,
   "metadata": {},
   "outputs": [],
   "source": [
    "def play_one_round_of_yahtzee():\n",
    "    previous_roll = np.array([])\n",
    "    roll_count = 0\n",
    "    mode_count = 0\n",
    "    while roll_count < 3 and mode_count < 5:\n",
    "        roll = roll_dice(previous_roll)\n",
    "        to_keep = find_what_to_keep(roll)\n",
    "        mode_count = to_keep[1]\n",
    "        if mode_count > 1:\n",
    "            keep = random.choice(to_keep[0])\n",
    "            previous_roll = roll[np.where(roll == keep)]\n",
    "        roll_count += 1\n",
    "    if mode_count == 5:\n",
    "        return 1\n",
    "    else:\n",
    "        return 0"
   ]
  },
  {
   "cell_type": "code",
   "execution_count": 5,
   "metadata": {
    "ExecuteTime": {
     "end_time": "2020-04-30T03:24:27.609469Z",
     "start_time": "2020-04-30T03:24:13.996482Z"
    }
   },
   "outputs": [
    {
     "data": {
      "text/plain": [
       "0.056"
      ]
     },
     "execution_count": 5,
     "metadata": {},
     "output_type": "execute_result"
    }
   ],
   "source": [
    "yahtzees = []\n",
    "for i in range(1000):\n",
    "    yahtzees.append(play_one_round_of_yahtzee())\n",
    "np.mean(yahtzees)"
   ]
  },
  {
   "cell_type": "markdown",
   "metadata": {},
   "source": [
    "It looks like slightly over 5% of turns can be expected to yield a yahtzee. However, this is with a small number of samples. The army, as you might imagine, cares about Monte Carlo sampling, and the Army Research Lab published a [report](https://apps.dtic.mil/dtic/tr/fulltext/u2/a621501.pdf) encouraging people to make better choices with their Monte Carlo sampling schemes. \n",
    "\n",
    "The important takeaway for us from this report is that the accuracy of Monte Carlo is proportional to $1/\\sqrt(n)$, where n is the number of simulations. In order to get three decimals of accuracy, we need to run about a million simulations. \n",
    "\n",
    "This may take a little while, as Python is probably not the best language to run this simulation. I've recently started learning Stan, which is a) awesome b) named after Stanislaw Ulam, the guy who invented the modern version of Monte Carlo sampling at the Los Alamos National Laboratory in the 1940s, and c) probably able to make short work of this problem in a matter of seconds. I may revisit this in the future with a Stan refactor. "
   ]
  },
  {
   "cell_type": "code",
   "execution_count": 6,
   "metadata": {
    "ExecuteTime": {
     "end_time": "2020-04-30T03:24:27.609469Z",
     "start_time": "2020-04-30T03:24:13.996482Z"
    }
   },
   "outputs": [
    {
     "name": "stdout",
     "output_type": "stream",
     "text": [
      "CPU times: user 2min 37s, sys: 1.99 s, total: 2min 39s\n",
      "Wall time: 2min 41s\n"
     ]
    },
    {
     "data": {
      "text/plain": [
       "0.046256"
      ]
     },
     "execution_count": 6,
     "metadata": {},
     "output_type": "execute_result"
    }
   ],
   "source": [
    "%%time\n",
    "\n",
    "yahtzees = []\n",
    "for i in range(1000000):\n",
    "    yahtzees.append(play_one_round_of_yahtzee())\n",
    "np.mean(yahtzees)"
   ]
  },
  {
   "cell_type": "markdown",
   "metadata": {},
   "source": [
    "It looks like the probability of getting a yahtzee on a single turn is about 4.6%. So how many turns can you expect to have before you roll a yahtzee, assuming that's all you focus on? The [geometric distribution](https://en.wikipedia.org/wiki/geometric_distribution) calculates the probability of _k_ trials being necessary to ensure one success. \n",
    "\n",
    "Thanks to the baseball cards full of info Wikipedia helpfully supplies for basically every probability distribution, we know that the expected value of the geometric distribution - in other words, the amount of turns we'd expect to need before we get a yahtzee - is given by $\\frac{1}{p}$, where _p_ is the probability of success. "
   ]
  },
  {
   "cell_type": "code",
   "execution_count": 7,
   "metadata": {},
   "outputs": [
    {
     "data": {
      "text/plain": [
       "21.73913043478261"
      ]
     },
     "execution_count": 7,
     "metadata": {},
     "output_type": "execute_result"
    }
   ],
   "source": [
    "1 / 0.046"
   ]
  },
  {
   "cell_type": "markdown",
   "metadata": {},
   "source": [
    "It looks like we'd need about 22 turns to get a yahtzee. Now you know why most yahtzee players can go whole games without getting a yahtzee - this simulation shows 22 turns of *solely trying to get a yahtzee*. If you were to mix in attempts to get all the other kinds of rolls, you would follow different decision rules than the ones we laid out for getting a yahtzee, and it would probably take you even longer to get one. \n",
    "\n",
    "As it happens, my partner and I rolled dice and counted the number of rolls for about as long as we could stand (four yahtzees), and it generally took us around 20 rolls to succeed. My Monte Carlo result therefore has some extremely insignificant real-world experimental evidence to back it up. If we stay in quarantine long enough, we may end up like [the statistician in the concentration camp who flipped a coin 10,000 times](https://en.wikipedia.org/wiki/John_Edmund_Kerrich#Experiments_in_empirical_probability) and start generating some real experimental evidence."
   ]
  }
 ],
 "metadata": {
  "kernelspec": {
   "display_name": "Python 3",
   "language": "python",
   "name": "python3"
  },
  "language_info": {
   "codemirror_mode": {
    "name": "ipython",
    "version": 3
   },
   "file_extension": ".py",
   "mimetype": "text/x-python",
   "name": "python",
   "nbconvert_exporter": "python",
   "pygments_lexer": "ipython3",
   "version": "3.7.6"
  }
 },
 "nbformat": 4,
 "nbformat_minor": 4
}
